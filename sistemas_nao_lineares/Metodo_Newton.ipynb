{
 "cells": [
  {
   "cell_type": "markdown",
   "id": "9cccd5a2",
   "metadata": {},
   "source": [
    "# Meu código"
   ]
  },
  {
   "cell_type": "markdown",
   "id": "68251735",
   "metadata": {},
   "source": [
    "# Implementação Matriz Jacobiana"
   ]
  },
  {
   "cell_type": "code",
   "execution_count": 63,
   "id": "753e6278",
   "metadata": {},
   "outputs": [],
   "source": [
    "import numpy as np\n",
    "from numpy import linalg as LA"
   ]
  },
  {
   "cell_type": "code",
   "execution_count": 64,
   "id": "b42dccf9",
   "metadata": {},
   "outputs": [],
   "source": [
    "def f1(x):\n",
    "    return x[0] + x[1] - 3\n",
    "def f2(x):\n",
    "    return x[0]**2 + x[1]**2 - 9"
   ]
  },
  {
   "cell_type": "code",
   "execution_count": 79,
   "id": "19add4ba",
   "metadata": {},
   "outputs": [],
   "source": [
    "def F(x):\n",
    "    N = len(x)\n",
    "    b = [0]*N\n",
    "    b[0] = f1(x)\n",
    "    b[1] = f2(x)\n",
    "    return b"
   ]
  },
  {
   "cell_type": "code",
   "execution_count": 80,
   "id": "864d4349",
   "metadata": {},
   "outputs": [],
   "source": [
    "def derivadas_parciais(f, x, h=1e-6):\n",
    "    df_dx = (f([x[0] + h, x[1]]) - f([x[0] - h, x[1]])) / (2 * h)\n",
    "    df_dy = (f([x[0], x[1] + h]) - f([x[0], x[1] - h])) / (2 * h)\n",
    "    return df_dx, df_dy"
   ]
  },
  {
   "cell_type": "code",
   "execution_count": 81,
   "id": "4a4985bd",
   "metadata": {},
   "outputs": [],
   "source": [
    "def J(x):\n",
    "    A = [[0,0],[0,0]]\n",
    "    A[0][0], A[0][1] = derivadas_parciais(f1, x)\n",
    "    A[1][0], A[1][1] = derivadas_parciais(f2, x)\n",
    "    return A"
   ]
  },
  {
   "cell_type": "markdown",
   "id": "b0639c6a",
   "metadata": {},
   "source": [
    "# Implementação Método de Newton"
   ]
  }
 ],
 "metadata": {
  "kernelspec": {
   "display_name": "Python 3 (ipykernel)",
   "language": "python",
   "name": "python3"
  },
  "language_info": {
   "codemirror_mode": {
    "name": "ipython",
    "version": 3
   },
   "file_extension": ".py",
   "mimetype": "text/x-python",
   "name": "python",
   "nbconvert_exporter": "python",
   "pygments_lexer": "ipython3",
   "version": "3.11.3"
  }
 },
 "nbformat": 4,
 "nbformat_minor": 5
}
