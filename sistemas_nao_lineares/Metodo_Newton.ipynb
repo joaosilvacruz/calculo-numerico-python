{
 "cells": [
  {
   "cell_type": "code",
   "execution_count": 22,
   "id": "cbb4c568",
   "metadata": {},
   "outputs": [],
   "source": [
    "#Imports necessários\n",
    "import numpy as np\n",
    "import math"
   ]
  },
  {
   "cell_type": "code",
   "execution_count": 24,
   "id": "fa50fbf9",
   "metadata": {},
   "outputs": [],
   "source": [
    "#Funções utilizadas\n",
    "def f1(x):\n",
    "    return x[0]**2 + x[1]**2 -25\n",
    "def f2(x):\n",
    "    return x[0]**2 - x[1] **2 -7"
   ]
  },
  {
   "cell_type": "code",
   "execution_count": 23,
   "id": "db91558c",
   "metadata": {},
   "outputs": [],
   "source": [
    "#Funções utilizadas pelo professor para conferir caso necessário\n",
    "# def f1(x):\n",
    "#     return x[0] + x[1] - 3\n",
    "# def f2(x):\n",
    "#     return x[0]**2 + x[1]**2 - 9"
   ]
  },
  {
   "cell_type": "code",
   "execution_count": 25,
   "id": "528a6a13",
   "metadata": {},
   "outputs": [],
   "source": [
    "def F(x):\n",
    "    N = len(x)\n",
    "    b = [0]*N\n",
    "    b[0] = f1(x)\n",
    "    b[1] = f2(x)\n",
    "    return b"
   ]
  },
  {
   "cell_type": "code",
   "execution_count": 26,
   "id": "47d19ef1",
   "metadata": {},
   "outputs": [],
   "source": [
    "#Implementação derivadas parciais de 2 variáveis\n",
    "def derivadas_parciais(f, x, h=1e-6):\n",
    "    df_dx = (f([x[0] + h, x[1]]) - f([x[0] - h, x[1]])) / (2 * h)\n",
    "    df_dy = (f([x[0], x[1] + h]) - f([x[0], x[1] - h])) / (2 * h)\n",
    "    return df_dx, df_dy"
   ]
  },
  {
   "cell_type": "code",
   "execution_count": 27,
   "id": "1fbb1305",
   "metadata": {},
   "outputs": [],
   "source": [
    "#Implementação Jacobiana\n",
    "def J(x):\n",
    "    A = [[0,0],[0,0]]\n",
    "    A[0][0], A[0][1] = derivadas_parciais(f1, x)\n",
    "    A[1][0], A[1][1] = derivadas_parciais(f2, x)\n",
    "    return A"
   ]
  },
  {
   "cell_type": "code",
   "execution_count": 28,
   "id": "8b4c93b0",
   "metadata": {},
   "outputs": [],
   "source": [
    "#Fatoração LU\n",
    "def fatoracao_lu(A, b):\n",
    "    def subs_sucessivas(A, b):\n",
    "        n = len(A)\n",
    "        x = n * [0]\n",
    "        for i in range(0, n):\n",
    "            s = 0\n",
    "            for j in range(0, i):\n",
    "                s = s + A[i][j] * x[j]\n",
    "            x[i] = (b[i]-s)/A[i][i]\n",
    "        return x\n",
    "\n",
    "    def identidade(n):\n",
    "        m = []\n",
    "        for i in range(0, n):\n",
    "            linha = [0] * n\n",
    "            linha[i] = 1\n",
    "            m.append(linha)\n",
    "        return m\n",
    "\n",
    "    def subs_retroativas(A, b):\n",
    "        n = len(A)\n",
    "        x = n * [0]\n",
    "        for i in range(n-1, -1, -1):\n",
    "            s = 0\n",
    "            for j in range(i+1, n):\n",
    "                s = s + A[i][j] * x[j]\n",
    "            x[i] = (b[i] - s)/ A[i][i]\n",
    "        return x\n",
    "\n",
    "    n = len(A)\n",
    "\n",
    "    L = identidade(n)\n",
    "\n",
    "    for k in range(0, n -1):\n",
    "        for i in range(k+1, n):\n",
    "            m = -A[i][k]/A[k][k]\n",
    "            L[i][k] = -m\n",
    "            for j in range(k+1, n):\n",
    "                A[i][j] = m * A[k][j] + A[i][j]\n",
    "            A[i][k] = 0\n",
    "\n",
    "    U = A\n",
    "\n",
    "    y = subs_sucessivas(L, b)\n",
    "    x = subs_retroativas(U, y)\n",
    "    \n",
    "    return x"
   ]
  },
  {
   "cell_type": "code",
   "execution_count": 29,
   "id": "ed564954",
   "metadata": {},
   "outputs": [],
   "source": [
    "# Função para gerar uma lista negativa\n",
    "def lista_negativa(lista):\n",
    "    lista = [-1 * x for x in lista]\n",
    "    return lista"
   ]
  },
  {
   "cell_type": "code",
   "execution_count": 30,
   "id": "aee72fc0",
   "metadata": {},
   "outputs": [],
   "source": [
    "# Função parar norma do vetor\n",
    "def norm(x):\n",
    "    return max(abs(xi) for xi in x)"
   ]
  },
  {
   "cell_type": "code",
   "execution_count": 31,
   "id": "3e7369e8",
   "metadata": {},
   "outputs": [
    {
     "name": "stdout",
     "output_type": "stream",
     "text": [
      "Iteração 0 : [3, 4]\n"
     ]
    }
   ],
   "source": [
    "# Dados inicias\n",
    "# x0 = [1,5] #valor utilizado pelo professor para conferir caso necessário\n",
    "x0 =[3,4]\n",
    "xv = []\n",
    "xv.append(np.array(x0)) #Lista criada para gerar o gráfico das duas funções\n",
    "maxiteracoes =30\n",
    "iteracao = 0\n",
    "epsilon = 0.01\n",
    "divergencia = 10**20\n",
    "print(\"Iteração\", iteracao,\":\",x0)"
   ]
  },
  {
   "cell_type": "code",
   "execution_count": 32,
   "id": "2932f082",
   "metadata": {},
   "outputs": [
    {
     "name": "stdout",
     "output_type": "stream",
     "text": [
      "Iteração 1 : [4.16666667 3.125     ]\n",
      "Iteração 2 : [4.00333333 3.0025    ]\n",
      "Iteração 3 : [4.00000139 3.00000104]\n",
      "Convergiu\n",
      "Precisão: 0.003331945648346087\n"
     ]
    }
   ],
   "source": [
    "# Realização do método de newton\n",
    "while (iteracao < maxiteracoes):\n",
    "    A = np.array(J(x0))\n",
    "    b = np.array(F(x0))\n",
    "    b_ = lista_negativa(b)\n",
    "    s = np.array(fatoracao_lu(A, b_))\n",
    "    omega=0.1\n",
    "    x1 = np.array(x0) + s # Sem utilizar a sobrerrelaxação\n",
    "    xv.append(x1)\n",
    "    iteracao+=1\n",
    "    print(\"Iteração\", iteracao,\":\",x1)\n",
    "    if (norm(s)<epsilon or norm(b)<epsilon):\n",
    "        print(\"Convergiu\")\n",
    "        print(\"Precisão:\",norm(s))\n",
    "        break\n",
    "    if (norm(b)>divergencia):\n",
    "        print(\"Divergiu\")\n",
    "        break\n",
    "\n",
    "    x0=x1"
   ]
  },
  {
   "cell_type": "code",
   "execution_count": 21,
   "id": "b1d1b4ce",
   "metadata": {},
   "outputs": [
    {
     "data": {
      "image/png": "[encoded data removed]",
      "text/plain": [
       "<Figure size 640x480 with 1 Axes>"
      ]
     },
     "metadata": {},
     "output_type": "display_data"
    }
   ],
   "source": [
    "#Construção do gráfico das duas funções.\n",
    "\n",
    "import matplotlib.pyplot as plt\n",
    "x = np.linspace(-4, 4, 400)\n",
    "y = np.linspace(-4, 4, 400)\n",
    "x, y = np.meshgrid(x, y)\n",
    "\n",
    "a = 1.0\n",
    "b = 1.0\n",
    "plt.contour(x, y,(x + y - 3), [0], colors='k')\n",
    "a = 1.\n",
    "b = 3.\n",
    "plt.contour(x, y,(x**2 + y**2 - 9), [0], colors='b')\n",
    "\n",
    "cont = 0\n",
    "for e in xv:\n",
    "    plt.plot(e[0],e[1],'or')\n",
    "    name = cont\n",
    "    plt.text(e[0]+0.3, e[1]+0.3, name, fontsize=10)\n",
    "    cont = cont + 1\n",
    "\n",
    "plt.grid()\n",
    "plt.show()"
   ]
  },
  {
   "cell_type": "code",
   "execution_count": null,
   "id": "d2603541",
   "metadata": {},
   "outputs": [],
   "source": []
  }
 ],
 "metadata": {
  "kernelspec": {
   "display_name": "Python 3 (ipykernel)",
   "language": "python",
   "name": "python3"
  },
  "language_info": {
   "codemirror_mode": {
    "name": "ipython",
    "version": 3
   },
   "file_extension": ".py",
   "mimetype": "text/x-python",
   "name": "python",
   "nbconvert_exporter": "python",
   "pygments_lexer": "ipython3",
   "version": "3.11.3"
  }
 },
 "nbformat": 4,
 "nbformat_minor": 5
}
