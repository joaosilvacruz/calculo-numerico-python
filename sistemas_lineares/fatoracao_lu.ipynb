{
  "nbformat": 4,
  "nbformat_minor": 0,
  "metadata": {
    "colab": {
      "provenance": []
    },
    "kernelspec": {
      "name": "python3",
      "display_name": "Python 3"
    },
    "language_info": {
      "name": "python"
    }
  },
  "cells": [
    {
      "cell_type": "markdown",
      "source": [
        "Seguem abaixo os métodos implementados, foram implementados:\n",
        "\n",
        "\n",
        "1.  Retrosubstituição\n",
        "2.  Eliminação de Gauss\n",
        "3.  Fatoração L.U\n",
        "4.  Gauss Jacobi\n",
        "5.  Gauss Seidel\n",
        "6.  Lagrange\n",
        "7.  Método de newton (Diferenças divididas)\n",
        "\n",
        "Foi utilizado a bilioteca Numpy principalmente para cálculo de determinante, concatenação das matrizes e para reproduzir a idéia de linha 1 recebe linha 1\n",
        "\n"
      ],
      "metadata": {
        "id": "rg0LjNFPj5ep"
      }
    },
    {
      "cell_type": "markdown",
      "source": [
        "Retrosubstituição:"
      ],
      "metadata": {
        "id": "rfLMCXlqksyo"
      }
    },
    {
      "cell_type": "code",
      "source": [
        "# Retrosubstituicao\n",
        "\n",
        "Matriz = [\n",
        "    [3, 1, 2],\n",
        "    [0, 3, 1],\n",
        "    [0, 0, 3]\n",
        "    ]\n",
        "b = [\n",
        "    5, \n",
        "    7,\n",
        "    3\n",
        "]\n",
        "\n",
        "n = len(Matriz)\n",
        "\n",
        "x = [0] * n\n",
        "for i in range(n-1, -1, -1):\n",
        "    soma = 0\n",
        "    for j in range(i+1, n):\n",
        "        soma = soma + Matriz[i][j] * x[j]\n",
        "    x[i] = (b[i] - soma)/Matriz[i][i]\n",
        "    print('o valor de x é ', x)\n",
        "print(\"O valor de x0 é: \", x[0])"
      ],
      "metadata": {
        "id": "qTGEtAcCkMfH"
      },
      "execution_count": null,
      "outputs": []
    },
    {
      "cell_type": "markdown",
      "source": [
        "Eliminação de Gauss"
      ],
      "metadata": {
        "id": "YQh8vXrlkzfn"
      }
    },
    {
      "cell_type": "code",
      "source": [
        "# Eliminacao_Gauss\n",
        "import numpy as np\n",
        "\n",
        "# Dados iniciais caso utilize o numpy\n",
        "A = np.array([[3.0, 2.0, 4.0],\n",
        "    [1, 1, 2],\n",
        "    [4, 3, -2]])\n",
        "\n",
        "B =  np.array([1.0, 2.0, 3])\n",
        "B_numpy2 = np.array([[1, 2, 3]]) #Um pequeno trabalho apenas para mostrar a matriz A|B\n",
        "\n",
        "A_ = np.copy(A) #Cópia da matriz A para verificar possíveis diferenças\n",
        "B_ = np.copy(B) #Cópia da matriz A para verificar possíveis diferenças\n",
        "\n",
        "matriz_A = np.concatenate((A,B_numpy2.T), axis = 1)\n",
        "print(\"--------------------------\")\n",
        "print(f\"A matriz expandida é:\\n{matriz_A} \") \n",
        "print(\"--------------------------\")\n",
        "\n",
        "n = len(A)\n",
        "\n",
        "#Cálculo do determinante\n",
        "det_A = np.linalg.det(A)\n",
        "\n",
        "# Condicional determinante\n",
        "if det_A != 0:\n",
        "    print(f'Tudo ok com o determinante Det(A) = {det_A}')\n",
        "else:\n",
        "    print(f'O pivô é igual a zero, logo a conclusão está incorreta')\n",
        "\n",
        "# Utilizando o numpy para realizar a mudança das linhas da matriz A\n",
        "for k in range(0, n-1): \n",
        "    pivo = A[k, k]\n",
        "    for i in range(k+1, n): \n",
        "        m_lk = A[i, k]/pivo\n",
        "        B[i] = B[i] - m_lk*B[k] \n",
        "        A[i, :] = A[i, :] - m_lk*A[k, :] #Receber os valores para as mudanças de linhas\n",
        "print(f'A matriz é::\\n {A[0]} \\n {A[1]} \\n {A[2]} \\n ')\n",
        "\n",
        "# Método da retrosubstituição normal\n",
        "x = [0] * n\n",
        "for i in range(n-1, -1, -1):\n",
        "    soma = 0\n",
        "    for j in range(i+1, n):\n",
        "        soma = soma + A[i, j] * x[j]\n",
        "    x[i] = (B[i] - soma)/A[i, i]\n",
        "    print('o valor de x é ', x)\n",
        "print(\"O valor de x0 é: \", x[0]) \n",
        "\n",
        "solucao = np.dot(A_,x) # O produto de A inicial pelo vetor solução, esse método encontra o produto escalar entre 2 arrays\n",
        "print(f'A solução é: {solucao}') # A solução tem que ser igual ao vetor B\n",
        "print(f'O vetor inicial é {B_}')"
      ],
      "metadata": {
        "id": "LUaTuhN8kzKi"
      },
      "execution_count": null,
      "outputs": []
    },
    {
      "cell_type": "markdown",
      "source": [
        "Fatoração L.U"
      ],
      "metadata": {
        "id": "xbhqrtWck3N3"
      }
    },
    {
      "cell_type": "code",
      "source": [
        "# Fatoracao_LU\n",
        "import numpy as np\n",
        "\n",
        "# É de suma importância digitar os valores com vírgulas para que os valores\n",
        "# sejam floats, assim não havendo problemas de divisões inteiras.\n",
        "\n",
        "A = np.array([[3.0, 2.0, 4.0], [1.0, 1.0, 2.0], [4.0, 3.0, -2.0]])\n",
        "B = np.array([[1.0, 2.0, 3.0]])\n",
        "\n",
        "# Matriz expandida\n",
        "matriz_A = np.concatenate((A,B.T), axis = 1)\n",
        "print(f'A matriz expandida A|B = \\n {matriz_A} \\n')\n",
        "\n",
        "#Definindo Matriz U\n",
        "U = np.copy(A)\n",
        "\n",
        "#Definindo tamanho de n e criando uma matriz n x n para auxiliar L\n",
        "n = len(A)\n",
        "L = (np.eye(n, n))\n",
        "\n",
        "#Cálculo do determinante\n",
        "det_A = np.linalg.det(A)\n",
        "\n",
        "# Condicional determinante\n",
        "if det_A != 0:\n",
        "    print(f'Tudo ok com o determinante Det(A) = {det_A}\\n')\n",
        "else:\n",
        "    print(f'O pivô é igual a zero, logo a conclusão está incorreta')\n",
        "\n",
        "for k in np.arange (n-1):\n",
        "    pivo = U[k, k]\n",
        "    for i in np.arange (k+1, n):\n",
        "        m_Linha = U[i, k]/ pivo\n",
        "        U[i, :] = U[i, :] - m_Linha * U[k, :]\n",
        "        L[i, k] = m_Linha\n",
        "\n",
        "print(f'A matriz L é: \\n {L} \\n')\n",
        "print(f'A matriz U é: \\n {U} \\n')\n",
        "\n"
      ],
      "metadata": {
        "id": "5haCROvTk4_Z"
      },
      "execution_count": null,
      "outputs": []
    },
    {
      "cell_type": "markdown",
      "source": [
        "Gauss Jacobi"
      ],
      "metadata": {
        "id": "PC5Z3OFfk67v"
      }
    },
    {
      "cell_type": "code",
      "source": [
        "# Gauss Jacobi\n",
        "import numpy as np\n",
        "\n",
        "A = [[10, 2, 1], [1, 5, 1], [2, 3, 10]]\n",
        "b = [7, -8, 6]\n",
        "maxIteracoes = int(input(\"Digite o valor máximo de iterações que deseja: \\n\"))\n",
        "eps = float(input(\"Digite o valor do epsilon que deseja: \\n\"))\n",
        "iteracao = 0\n",
        "\n",
        "A_numpy = np.array(A)\n",
        "B_numpy =  np.array(b)\n",
        "\n",
        "n = len(b)\n",
        "x_anterior = b.copy()\n",
        "\n",
        "\n",
        "#Cálculo do determinante\n",
        "det_A = np.linalg.det(A) \n",
        "print(det_A)\n",
        "\n",
        "x_atual = x_anterior.copy()\n",
        "\n",
        "# Condicional determinante\n",
        "if det_A == 0:\n",
        "    print(f'O determinante é igual a zero, logo a solução estará incorreta')\n",
        "\n",
        "else:\n",
        "    print(f'Tudo ok com o determinante Det(A) = {det_A}')\n",
        "    for i in range(0, n):\n",
        "        x_anterior[i] = b[i]/A[i][i]\n",
        "    while (iteracao < maxIteracoes ):\n",
        "        iteracao += 1\n",
        "        for i in range(0, n):\n",
        "            soma = 0\n",
        "            for j in range(0, n):\n",
        "                if i != j:\n",
        "                    soma = soma + A[i][j] * x_anterior[j]\n",
        "            x_atual[i] = ((1/A[i][i])*(b[i]- soma))\n",
        "        print(\"Iteração: \", iteracao)\n",
        "        print(\"x atual é\", x_atual)\n",
        "        print(\"x anterior é: \", x_anterior)\n",
        "\n",
        "        Dist_Abs=[]\n",
        "        Valor_Dist_abs = 0\n",
        "        for i in range(0, len(x_anterior)):\n",
        "            for j in range(0, 1):\n",
        "                D_a = x_anterior[i]-x_atual[i]\n",
        "                Dist_Abs.append(D_a)\n",
        "            Valor_Dist_abs = max(np.abs((Dist_Abs)))\n",
        "            # print(f'O valor da distância absoluta é: {Valor_Dist_abs}')\n",
        "\n",
        "        if Valor_Dist_abs < eps:\n",
        "            print(f'O critério de parada foi atingido, onde o valor máximo da distância absoluta {Valor_Dist_abs} é menor que o valor do epsilon {eps}')\n",
        "            break\n",
        "        x_anterior = x_atual.copy()\n",
        "    \n",
        "    print(f' O valor encontrado de x foi:\\n {x_anterior}')\n",
        "\n",
        "\n",
        "\n",
        "\n"
      ],
      "metadata": {
        "id": "Hp8gxY9AlC7g"
      },
      "execution_count": null,
      "outputs": []
    },
    {
      "cell_type": "markdown",
      "source": [
        "Gauss Seidel\n"
      ],
      "metadata": {
        "id": "gRQay-OtlIkJ"
      }
    },
    {
      "cell_type": "code",
      "source": [
        "# Gauss Seidel\n",
        "import numpy as np\n",
        "\n",
        "A = [[10, 2, 1], [1, 5, 1], [2, 3, 10]]\n",
        "b = [7, -8, 6]\n",
        "maxIteracoes = int(input(\"Digite o valor máximo de iterações que deseja: \\n\"))\n",
        "eps = float(input(\"Digite o valor do epsilon que deseja: \\n\"))\n",
        "iteracao = 0\n",
        "\n",
        "A_numpy = np.array(A)\n",
        "B_numpy =  np.array(b)\n",
        "\n",
        "n = len(b)\n",
        "x_anterior = b.copy()\n",
        "\n",
        "#Cálculo do determinante\n",
        "det_A = np.linalg.det(A) \n",
        "print(det_A)\n",
        "\n",
        "# Condicional determinante\n",
        "\n",
        "x_atual = x_anterior.copy()\n",
        "\n",
        "\n",
        "if det_A == 0:\n",
        "    print(f'O determinante é igual a zero, logo a solução estará incorreta')\n",
        "\n",
        "else:\n",
        "    print(f'Tudo ok com o determinante Det(A) = {det_A}')\n",
        "    for i in range(0, n):\n",
        "        x_anterior[i] = b[i]/A[i][i]\n",
        "    while (iteracao < maxIteracoes ):\n",
        "        iteracao += 1\n",
        "        for i in range(0, n):\n",
        "            soma = 0\n",
        "            for j in range(0, n):\n",
        "                if i > j:\n",
        "                    soma = soma + A[i][j] * x_atual[j]\n",
        "                if i < j:\n",
        "                    soma = soma + A[i][j] * x_anterior[j]\n",
        "            x_atual[i] = ((1/A[i][i])*(b[i]- soma))\n",
        "        print(\"Iteração: \", iteracao)\n",
        "        print(\"x atual é\", x_atual)\n",
        "        print(\"x anterior é: \", x_anterior)\n",
        "\n",
        "        Dist_Abs=[]\n",
        "        Valor_Dist_abs = 0\n",
        "        for i in range(0, len(x_anterior)):\n",
        "            for j in range(0, 1):\n",
        "                D_a = x_anterior[i]-x_atual[i]\n",
        "                Dist_Abs.append(D_a)\n",
        "            Valor_Dist_abs = max(np.abs((Dist_Abs)))\n",
        "            # print(f'O valor da distância absoluta é: {Valor_Dist_abs}')\n",
        "\n",
        "        if Valor_Dist_abs < eps:\n",
        "            print(f'O critério de parada foi atingido, onde o valor máximo da distância absoluta {Valor_Dist_abs} é menor que o valor do epsilon {eps}')\n",
        "            break\n",
        "        x_anterior = x_atual.copy()\n",
        "    \n",
        "    print(f' O valor encontrado de x foi:\\n {x_anterior}')"
      ],
      "metadata": {
        "id": "oWzcZw8olLxg"
      },
      "execution_count": null,
      "outputs": []
    },
    {
      "cell_type": "markdown",
      "source": [
        "Lagrange\n"
      ],
      "metadata": {
        "id": "1etNSjSklMUv"
      }
    },
    {
      "cell_type": "code",
      "source": [
        "# Lagrange\n",
        "import matplotlib.pyplot as plt\n",
        "x = eval('[' + input(\"Digite a lista de valores de x: \") + ']')\n",
        "y = eval('[' + input(\"Digite a lista de valores de y: \") + ']')\n",
        "print(f'A lista de valores de x foi: \\n {x} \\n e de y foi: \\n {y} \\n você confirma sua escolha? Sim = 1, Não = 0')\n",
        "confirma = int(input())\n",
        "while confirma != 1:\n",
        "    x = eval('[' + input(\"Digite a lista de valores de x: \") + ']')\n",
        "    y = eval('[' + input(\"Digite a lista de valores de y: \") + ']')\n",
        "    print(f'A lista de valores de x foi: \\n {x} \\n e de y foi: \\n {y} \\n você confirma sua escolha? Sim = 1, Não = 0')\n",
        "    confirma = int(input())\n",
        "\n",
        "n = int(input('Digite o grau do polinomino: '))\n",
        "x_dado = float(input('Digite o valor de X para o qual você quer achar o de Y: '))\n",
        "\n",
        "lista_grafico_x = x.copy()\n",
        "lista_grafico_y = y.copy()\n",
        "lista_grafico_x.append(x_dado)\n",
        "print(lista_grafico_x)\n",
        "\n",
        "\n",
        "y_f = 0\n",
        "lista_aux = []\n",
        "\n",
        "for i in range(0, n+1):\n",
        "    prod = 1\n",
        "    for j in range(0, n+1):\n",
        "        if i!= j:\n",
        "            prod = prod * (x_dado - x[j])/(x[i]-x[j])\n",
        "    lista_aux.append(prod)  \n",
        "    y_f = y_f + prod*y[i]\n",
        "\n",
        "lista_grafico_y.append(y_f)\n",
        "print(lista_aux)\n",
        "print(f'\\nO y encontrado foi: {y_f} \\n')\n",
        "print(f'O Polinômio da função é: \\n ({y[0]})*L0(x)+({y[1]})*L1(x)+({y[2]})*L2(x) \\n')\n",
        "print(f'Os valores de L(x) são respectivamente, começando do l0(x): \\n{lista_aux}\\n ')\n",
        "plt.scatter(lista_grafico_x,lista_grafico_y)\n",
        "plt.show()\n"
      ],
      "metadata": {
        "id": "mU7RiPn7lOUX",
        "colab": {
          "base_uri": "https://localhost:8080/",
          "height": 629
        },
        "outputId": "2750dba9-fb36-4f1e-d0c6-0a9de5b0cad4"
      },
      "execution_count": null,
      "outputs": [
        {
          "output_type": "stream",
          "name": "stdout",
          "text": [
            "Digite a lista de valores de x: -1,0,2\n",
            "Digite a lista de valores de y: 4,1,-1\n",
            "A lista de valores de x foi: \n",
            " [-1, 0, 2] \n",
            " e de y foi: \n",
            " [4, 1, -1] \n",
            " você confirma sua escolha? Sim = 1, Não = 0\n",
            "1\n",
            "Digite o grau do polinomino: 2\n",
            "Digite o valor de X para o qual você quer achar o de Y: 1\n",
            "[-1, 0, 2, 1.0]\n",
            "[-0.3333333333333333, 1.0, 0.3333333333333333]\n",
            "\n",
            "O y encontrado foi: -0.6666666666666665 \n",
            "\n",
            "O Polinômio da função é: \n",
            " (4)*L0(x)+(1)*L1(x)+(-1)*L2(x) \n",
            "\n",
            "Os valores de L(x) são respectivamente, começando do l0(x): \n",
            "[-0.3333333333333333, 1.0, 0.3333333333333333]\n",
            " \n"
          ]
        },
        {
          "output_type": "display_data",
          "data": {
            "text/plain": [
              "<Figure size 432x288 with 1 Axes>"
            ],
            "image/png": "[encoded data removed]"
          },
          "metadata": {
            "needs_background": "light"
          }
        }
      ]
    },
    {
      "cell_type": "markdown",
      "source": [
        "Método de Newton"
      ],
      "metadata": {
        "id": "GoxXIFhflO6v"
      }
    },
    {
      "cell_type": "code",
      "source": [
        "# Metodo de Newton\n",
        "import numpy as np\n",
        "import matplotlib.pyplot as plt\n",
        "\n",
        "x = eval('[' + input(\"Digite a lista de valores de x: \") + ']')\n",
        "y = eval('[' + input(\"Digite a lista de valores de y: \") + ']')\n",
        "print(f'A lista de valores de x foi: \\n {x} \\n e de y foi: \\n {y} \\n você confirma sua escolha? Sim = 1, Não = 0')\n",
        "confirma = int(input())\n",
        "while confirma != 1:\n",
        "    x = eval('[' + input(\"Digite a lista de valores de x: \") + ']')\n",
        "    y = eval('[' + input(\"Digite a lista de valores de y: \") + ']')\n",
        "    print(f'A lista de valores de x foi: \\n {x} \\n e de y foi: \\n {y} \\n você confirma sua escolha? Sim = 1, Não = 0')\n",
        "    confirma = int(input())\n",
        "    \n",
        "x_dado = float(input('Digite o valor de X para o qual você quer achar o de Y: '))\n",
        "\n",
        "lista_grafico_x = x.copy()\n",
        "lista_grafico_y = y.copy()\n",
        "lista_grafico_x.append(x_dado)\n",
        "print(lista_grafico_x)\n",
        "\n",
        "n = len(x)\n",
        "lista_numpy = np.zeros([n, n+1]) \n",
        "f = lista_numpy.tolist() #converter a array do numpy em uma lista \n",
        "\n",
        "for i in range(n):\n",
        "    f[i][0] = y[i]\n",
        "\n",
        "for i in range(1, n):\n",
        "    for j in range(0, n-i):\n",
        "        f[j][i] = (f[j+1][i-1]-f[j][i-1])/(x[j+i]-x[j])\n",
        "\n",
        "#p2(x) = d0 +d1(x_dado-x0)+d2(x_dado-x0)(x_dado-x1)\n",
        "ordem_0 = f[0][0]\n",
        "print(f'\\nOs valores de d0, d1, d2, dn estão respectivamente na lista abaixo: \\n{f[0]}\\n')\n",
        "soma = ordem_0\n",
        "for i in range(0,n):\n",
        "    soma += f[0][i+1]*(x_dado - x[i])\n",
        "\n",
        "lista_grafico_y.append(soma)\n",
        "plt.scatter(lista_grafico_x,lista_grafico_y)\n",
        "plt.show()\n",
        "\n",
        "\n",
        "print(f'O valor encontrado de Y para x = {x_dado} foi: {soma}')\n",
        "# O valor encontrado não coincidiu com o que deveria ser, porém d0, d1 e d2 bateram com o resultado,\n",
        "# acredito ter errado no calculo do somatório porém analisando a fórmula de p2(x) não imagino onde esteja errado\n",
        "# Apesar de tentar fazer uma implementação do gráfico ele não saiu tão bem quanto esperado por conta do valor encontrato estar incoerente"
      ],
      "metadata": {
        "id": "fx8D-GzElTPI",
        "colab": {
          "base_uri": "https://localhost:8080/",
          "height": 525
        },
        "outputId": "721de6d3-3b84-4172-c831-32cca2643f11"
      },
      "execution_count": null,
      "outputs": [
        {
          "output_type": "stream",
          "name": "stdout",
          "text": [
            "Digite a lista de valores de x: -1,0,2\n",
            "Digite a lista de valores de y: 4,1,-1\n",
            "A lista de valores de x foi: \n",
            " [-1, 0, 2] \n",
            " e de y foi: \n",
            " [4, 1, -1] \n",
            " você confirma sua escolha? Sim = 1, Não = 0\n",
            "1\n",
            "Digite o valor de X para o qual você quer achar o de Y: 1\n",
            "[-1, 0, 2, 1.0]\n",
            "\n",
            "Os valores de d0, d1, d2, dn estão respectivamente na lista abaixo: \n",
            "[4, -3.0, 0.6666666666666666, 0.0]\n",
            "\n"
          ]
        },
        {
          "output_type": "display_data",
          "data": {
            "text/plain": [
              "<Figure size 432x288 with 1 Axes>"
            ],
            "image/png": "[encoded data removed]"
          },
          "metadata": {
            "needs_background": "light"
          }
        },
        {
          "output_type": "stream",
          "name": "stdout",
          "text": [
            "O valor encontrado de Y para x = 1.0 foi: -1.3333333333333335\n"
          ]
        }
      ]
    }
  ]
}